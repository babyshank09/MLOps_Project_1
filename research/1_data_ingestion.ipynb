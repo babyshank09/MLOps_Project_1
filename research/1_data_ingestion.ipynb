{
 "cells": [
  {
   "cell_type": "markdown",
   "metadata": {},
   "source": [
    "## Data Ingestion Research"
   ]
  },
  {
   "cell_type": "code",
   "execution_count": 2,
   "metadata": {},
   "outputs": [
    {
     "data": {
      "text/plain": [
       "'c:\\\\Users\\\\v-sisubraman\\\\Documents\\\\Perfect Environment\\\\MLOps\\\\MLOps_Projects\\\\First\\\\MLOps_Project_1\\\\research'"
      ]
     },
     "execution_count": 2,
     "metadata": {},
     "output_type": "execute_result"
    }
   ],
   "source": [
    "import os\n",
    "%pwd"
   ]
  },
  {
   "cell_type": "code",
   "execution_count": 3,
   "metadata": {},
   "outputs": [],
   "source": [
    "os.chdir(\"../\") "
   ]
  },
  {
   "cell_type": "code",
   "execution_count": 4,
   "metadata": {},
   "outputs": [
    {
     "data": {
      "text/plain": [
       "'c:\\\\Users\\\\v-sisubraman\\\\Documents\\\\Perfect Environment\\\\MLOps\\\\MLOps_Projects\\\\First\\\\MLOps_Project_1'"
      ]
     },
     "execution_count": 4,
     "metadata": {},
     "output_type": "execute_result"
    }
   ],
   "source": [
    "%pwd"
   ]
  },
  {
   "cell_type": "code",
   "execution_count": 5,
   "metadata": {},
   "outputs": [],
   "source": [
    "from dataclasses import dataclass  \n",
    "from pathlib import Path\n",
    "\n",
    "\n",
    "@dataclass \n",
    "class DataIngestionConfig: \n",
    "    root_dir: Path  \n",
    "    source_URL: str \n",
    "    local_data_file: Path \n",
    "    unzip_dir: Path\n"
   ]
  },
  {
   "cell_type": "code",
   "execution_count": 6,
   "metadata": {},
   "outputs": [
    {
     "name": "stdout",
     "output_type": "stream",
     "text": [
      "Requirement already satisfied: pyyaml in c:\\users\\v-sisubraman\\documents\\perfect environment\\mlops\\mlops_projects\\first\\mlops_project_1\\venv\\lib\\site-packages (6.0.2)\n",
      "Requirement already satisfied: joblib in c:\\users\\v-sisubraman\\documents\\perfect environment\\mlops\\mlops_projects\\first\\mlops_project_1\\venv\\lib\\site-packages (1.4.2)\n"
     ]
    }
   ],
   "source": [
    "!pip install pyyaml \n",
    "!pip install joblib"
   ]
  },
  {
   "cell_type": "code",
   "execution_count": 7,
   "metadata": {},
   "outputs": [
    {
     "name": "stdout",
     "output_type": "stream",
     "text": [
      "Ran successfully\n"
     ]
    }
   ],
   "source": [
    "from src.MLOps_Project.constants import * \n",
    "from src.MLOps_Project.utils.common import read_yaml_file, create_directories\n",
    "import yaml\n",
    "\n",
    "class ConfigurationManager: \n",
    "    def __init__(\n",
    "    self, \n",
    "    config_filepath = CONFIG_FILE_PATH, \n",
    "    schema_filepath= SCHEMA_FILE_PATH, \n",
    "    params_filepath= PARAMS_FILE_PATH\n",
    "    ): \n",
    "        self.config_filepath = read_yaml_file(config_filepath)\n",
    "        #self.schema_filepath = read_yaml_file(schema_filepath)\n",
    "        #self.params_filepath = read_yaml_file(params_filepath)  \n",
    "\n",
    "        create_directories([self.config_filepath.artifacts_root])  \n",
    "\n",
    "\n",
    "\n",
    "    def get_data_ingestion_config(self)-> DataIngestionConfig: \n",
    "        \n",
    "        config = self.config_filepath.data_ingestion \n",
    "        create_directories([config.root_dir])\n",
    "\n",
    "        data_ingestion_config= DataIngestionConfig(\n",
    "            root_dir = Path(config.root_dir), \n",
    "            source_URL = str(config.source_URL), \n",
    "            local_data_file = Path(config.local_data_file), \n",
    "            unzip_dir = Path(config.unzip_dir)\n",
    "        )  \n",
    "\n",
    "        return data_ingestion_config\n",
    "\n"
   ]
  },
  {
   "cell_type": "code",
   "execution_count": 8,
   "metadata": {},
   "outputs": [],
   "source": [
    "import os \n",
    "import urllib.request as request \n",
    "from src.MLOps_Project import logger \n",
    "import zipfile \n",
    "\n",
    "class DataIngestion:  \n",
    "    def __init__(self, config: DataIngestionConfig): \n",
    "        self.config = config \n",
    "\n",
    "\n",
    "    def download_file(self): \n",
    "        if not os.path.exists(self.config.local_data_file): \n",
    "            filename, headers = request.urlretrieve(\n",
    "                url= self.config.source_URL, \n",
    "                filename = self.config.local_data_file\n",
    "            ) \n",
    "\n",
    "            logger.info(f\"{filename} downloaded! with the following info {headers}\") \n",
    "\n",
    "        else: \n",
    "            logger.info(\"File already exists\") \n",
    "\n",
    "    \n",
    "    def extract_zipfile(self): \n",
    "        unzip_path = self.config.unzip_dir \n",
    "        os.makedirs(unzip_path, exist_ok = True) \n",
    "        with zipfile.ZipFile(self.config.local_data_file, \"r\") as zip_ref: \n",
    "            zip_ref.extractall(unzip_path)  \n",
    "\n",
    "        logger.info(f\"{self.config.local_data_file} unziped at {unzip_path}\")\n",
    "\n",
    "    "
   ]
  },
  {
   "cell_type": "code",
   "execution_count": 9,
   "metadata": {},
   "outputs": [
    {
     "name": "stdout",
     "output_type": "stream",
     "text": [
      "[2025-02-27 14:54:45,900: INFO: common: yaml file: config\\config.yaml loaded successfully]\n",
      "[2025-02-27 14:54:45,910: INFO: common: Created directory at artifacts]\n",
      "[2025-02-27 14:54:45,910: INFO: common: Created directory at artifacts/data_ingestion]\n",
      "[2025-02-27 14:54:45,910: INFO: 4166710704: File already exists]\n"
     ]
    },
    {
     "name": "stdout",
     "output_type": "stream",
     "text": [
      "[2025-02-27 14:54:45,933: INFO: 4166710704: artifacts\\data_ingestion\\data.zip unziped at artifacts\\data_ingestion]\n"
     ]
    }
   ],
   "source": [
    "try: \n",
    "    config = ConfigurationManager() \n",
    "    data_ingestion_config = config.get_data_ingestion_config() \n",
    "    data_ingestion = DataIngestion(config = data_ingestion_config)  \n",
    "    data_ingestion.download_file() \n",
    "    data_ingestion.extract_zipfile() \n",
    "\n",
    "except Exception as e: \n",
    "    raise e \n"
   ]
  }
 ],
 "metadata": {
  "kernelspec": {
   "display_name": "Python 3",
   "language": "python",
   "name": "python3"
  },
  "language_info": {
   "codemirror_mode": {
    "name": "ipython",
    "version": 3
   },
   "file_extension": ".py",
   "mimetype": "text/x-python",
   "name": "python",
   "nbconvert_exporter": "python",
   "pygments_lexer": "ipython3",
   "version": "3.12.0"
  }
 },
 "nbformat": 4,
 "nbformat_minor": 2
}
